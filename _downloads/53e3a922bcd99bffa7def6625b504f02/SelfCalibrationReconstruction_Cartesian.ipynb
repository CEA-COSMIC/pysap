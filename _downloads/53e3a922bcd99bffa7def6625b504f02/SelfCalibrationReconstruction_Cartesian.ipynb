{
  "cells": [
    {
      "cell_type": "code",
      "execution_count": null,
      "metadata": {
        "collapsed": false
      },
      "outputs": [],
      "source": [
        "%matplotlib inline"
      ]
    },
    {
      "cell_type": "markdown",
      "metadata": {},
      "source": [
        "\n# Cartesian Self Calibrating Reconstruction\n\nAuthor: Chaithya G R\n\nIn this tutorial we will reconstruct an MRI image from cartesian kspace\nmeasurements.\n\n## Import neuroimaging data\n\nWe use the toy datasets available in pysap, more specifically a 2D parallel MRI\nbrain slice on 32 channels and the acquisition cartesian scheme.\n"
      ]
    },
    {
      "cell_type": "markdown",
      "metadata": {},
      "source": [
        "Package import\n\n"
      ]
    },
    {
      "cell_type": "code",
      "execution_count": null,
      "metadata": {
        "collapsed": false
      },
      "outputs": [],
      "source": [
        "from mri.operators import FFT, WaveletN\nfrom mri.reconstructors import SelfCalibrationReconstructor\nfrom pysap.data import get_sample_data\n\n# Third party import\nfrom modopt.math.metrics import ssim\nfrom modopt.opt.linear import Identity\nfrom modopt.opt.proximity import SparseThreshold\nimport numpy as np\nimport matplotlib.pyplot as plt"
      ]
    },
    {
      "cell_type": "markdown",
      "metadata": {},
      "source": [
        "Loading input data\n\n"
      ]
    },
    {
      "cell_type": "code",
      "execution_count": null,
      "metadata": {
        "collapsed": false
      },
      "outputs": [],
      "source": [
        "cartesian_ref_image = get_sample_data('2d-pmri')\nimage = np.linalg.norm(cartesian_ref_image, axis=0)\n# Obtain MRI cartesian mask\nmask = get_sample_data(\"cartesian-mri-mask\").data"
      ]
    },
    {
      "cell_type": "markdown",
      "metadata": {},
      "source": [
        "View Input\n\n"
      ]
    },
    {
      "cell_type": "code",
      "execution_count": null,
      "metadata": {
        "collapsed": false
      },
      "outputs": [],
      "source": [
        "plt.subplot(1, 2, 1)\nplt.imshow(np.abs(image), cmap='gray')\nplt.title(\"MRI Data\")\nplt.subplot(1, 2, 2)\nplt.imshow(mask, cmap='gray')\nplt.title(\"K-space Sampling Mask\")\nplt.show()"
      ]
    },
    {
      "cell_type": "markdown",
      "metadata": {},
      "source": [
        "## Generate the kspace\n\nFrom the 2D brain slice and the acquisition mask, we retrospectively\nundersample the k-space using a cartesian acquisition mask\nWe then reconstruct the zero order solution as a baseline\n\n"
      ]
    },
    {
      "cell_type": "code",
      "execution_count": null,
      "metadata": {
        "collapsed": false
      },
      "outputs": [],
      "source": [
        "# Get the locations of the kspace samples and the associated observations\nfourier_op = FFT(mask=mask, shape=image.shape,\n                 n_coils=cartesian_ref_image.shape[0])\nkspace_obs = fourier_op.op(cartesian_ref_image)"
      ]
    },
    {
      "cell_type": "markdown",
      "metadata": {},
      "source": [
        "Zero order solution\n\n"
      ]
    },
    {
      "cell_type": "code",
      "execution_count": null,
      "metadata": {
        "collapsed": false
      },
      "outputs": [],
      "source": [
        "zero_soln = np.linalg.norm(fourier_op.adj_op(kspace_obs), axis=0)\nbase_ssim = ssim(zero_soln, image)\nplt.imshow(np.abs(zero_soln), cmap='gray')\nplt.title('Zero Order Solution : SSIM = ' + str(np.around(base_ssim, 2)))\nplt.show()"
      ]
    },
    {
      "cell_type": "markdown",
      "metadata": {},
      "source": [
        "## FISTA optimization\n\nWe now want to refine the zero order solution using a FISTA optimization.\nThe cost function is set to Proximity Cost + Gradient Cost\n\n"
      ]
    },
    {
      "cell_type": "code",
      "execution_count": null,
      "metadata": {
        "collapsed": false
      },
      "outputs": [],
      "source": [
        "# Setup the operators\nlinear_op = WaveletN(\n    wavelet_name='sym8',\n    nb_scale=4,\n)\nregularizer_op = SparseThreshold(Identity(), 1.5e-8, thresh_type=\"soft\")\n# Setup Reconstructor\nreconstructor = SelfCalibrationReconstructor(\n    fourier_op=fourier_op,\n    linear_op=linear_op,\n    regularizer_op=regularizer_op,\n    gradient_formulation='synthesis',\n    kspace_portion=0.01,\n    verbose=1,\n)"
      ]
    },
    {
      "cell_type": "markdown",
      "metadata": {},
      "source": [
        "Run the FISTA reconstruction and view results\n\n"
      ]
    },
    {
      "cell_type": "code",
      "execution_count": null,
      "metadata": {
        "collapsed": false
      },
      "outputs": [],
      "source": [
        "image_rec, costs, metrics = reconstructor.reconstruct(\n    kspace_data=kspace_obs,\n    optimization_alg='fista',\n    num_iterations=200,\n)\nrecon_ssim = ssim(image_rec, image)\nplt.imshow(np.abs(image_rec), cmap='gray')\nplt.title('Iterative Reconstruction : SSIM = ' + str(np.around(recon_ssim, 2)))\nplt.show()"
      ]
    }
  ],
  "metadata": {
    "kernelspec": {
      "display_name": "Python 3",
      "language": "python",
      "name": "python3"
    },
    "language_info": {
      "codemirror_mode": {
        "name": "ipython",
        "version": 3
      },
      "file_extension": ".py",
      "mimetype": "text/x-python",
      "name": "python",
      "nbconvert_exporter": "python",
      "pygments_lexer": "ipython3",
      "version": "3.10.12"
    }
  },
  "nbformat": 4,
  "nbformat_minor": 0
}