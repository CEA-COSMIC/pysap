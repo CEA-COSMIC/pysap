{
  "cells": [
    {
      "cell_type": "code",
      "execution_count": null,
      "metadata": {
        "collapsed": false
      },
      "outputs": [],
      "source": [
        "%matplotlib inline"
      ]
    },
    {
      "cell_type": "markdown",
      "metadata": {},
      "source": [
        "\n# 3D Neuroimaging cartesian reconstruction\n\nAuthor: LElgueddari\n\nIn this tutorial we will reconstruct an MRI image from the sparse 3D kspace\nmeasurements.\n\n## Import neuroimaging data\n\nWe use the toy datasets available in pysap, more specifically the 3D orange\nand the cartesian acquisition scheme.\n"
      ]
    },
    {
      "cell_type": "markdown",
      "metadata": {},
      "source": [
        "Package import\n\n"
      ]
    },
    {
      "cell_type": "code",
      "execution_count": null,
      "metadata": {
        "collapsed": false
      },
      "outputs": [],
      "source": [
        "from modopt.math.metrics import ssim\nfrom mri.operators import FFT, WaveletN\nfrom mri.operators.utils import convert_mask_to_locations\nfrom mri.reconstructors import SingleChannelReconstructor\nfrom pysap.data import get_sample_data\nimport pysap\n\n# Third party import\nfrom modopt.opt.linear import Identity\nfrom modopt.opt.proximity import SparseThreshold\nimport numpy as np\nimport matplotlib.pyplot as plt"
      ]
    },
    {
      "cell_type": "markdown",
      "metadata": {},
      "source": [
        "Loading input data and convert it into a single channel using Sum-Of-Squares\n\n"
      ]
    },
    {
      "cell_type": "code",
      "execution_count": null,
      "metadata": {
        "collapsed": false
      },
      "outputs": [],
      "source": [
        "image = get_sample_data('3d-pmri').data\nimage = np.linalg.norm(image, axis=0)\n\n# Obtain K-Space Cartesian Mask (straight line readout along z)\nmask = get_sample_data(\"2d-poisson-disk-mask\").data\nmask = np.repeat(np.expand_dims(mask, axis=-1), image.shape[-1],\n                      axis=-1)"
      ]
    },
    {
      "cell_type": "markdown",
      "metadata": {},
      "source": [
        "View Input\n\n"
      ]
    },
    {
      "cell_type": "code",
      "execution_count": null,
      "metadata": {
        "collapsed": false
      },
      "outputs": [],
      "source": [
        "plt.subplot(1, 2, 1)\nplt.imshow(np.abs(image[..., 80]), cmap='gray')\nplt.title(\"MRI Data\")\nplt.subplot(1, 2, 2)\nplt.imshow(mask[..., 80], cmap='gray')\nplt.title(\"K-space Sampling Mask\")\nplt.show()"
      ]
    },
    {
      "cell_type": "markdown",
      "metadata": {},
      "source": [
        "## Generate the kspace\n\nFrom the 3D Orange volume and the acquisition mask, we retrospectively\nundersample the k-space using a cartesian acquisition mask\nWe then reconstruct the zero order solution as a baseline\n\n"
      ]
    },
    {
      "cell_type": "code",
      "execution_count": null,
      "metadata": {
        "collapsed": false
      },
      "outputs": [],
      "source": [
        "# Generate the subsampled kspace\nfourier_op = FFT(mask=mask, shape=image.shape)\nkspace_data = fourier_op.op(image)"
      ]
    },
    {
      "cell_type": "markdown",
      "metadata": {},
      "source": [
        "Zero order solution\n\n"
      ]
    },
    {
      "cell_type": "code",
      "execution_count": null,
      "metadata": {
        "collapsed": false
      },
      "outputs": [],
      "source": [
        "image_rec0 = fourier_op.adj_op(kspace_data)\nbase_ssim = ssim(image_rec0, image)\nplt.imshow(np.abs(image_rec0[..., 80]), cmap='gray')\nplt.title('Gridded solution : SSIM = ' + str(np.around(base_ssim, 2)))\nplt.show()"
      ]
    },
    {
      "cell_type": "markdown",
      "metadata": {},
      "source": [
        "## FISTA optimization\n\nWe now want to refine the zero order solution using a FISTA optimization.\nThe cost function is set to Proximity Cost + Gradient Cost\n\n"
      ]
    },
    {
      "cell_type": "code",
      "execution_count": null,
      "metadata": {
        "collapsed": false
      },
      "outputs": [],
      "source": [
        "# Setup the operators\nlinear_op = WaveletN(\n    wavelet_name=\"sym8\",\n    nb_scales=4,\n    dim=3,\n    padding_mode=\"periodization\",\n)\nregularizer_op = SparseThreshold(Identity(), 2 * 1e-11, thresh_type=\"soft\")\n# Setup Reconstructor\nreconstructor = SingleChannelReconstructor(\n    fourier_op=fourier_op,\n    linear_op=linear_op,\n    regularizer_op=regularizer_op,\n    gradient_formulation='synthesis',\n    verbose=1,\n)"
      ]
    },
    {
      "cell_type": "markdown",
      "metadata": {},
      "source": [
        "Start Reconstruction\n\n"
      ]
    },
    {
      "cell_type": "code",
      "execution_count": null,
      "metadata": {
        "collapsed": false
      },
      "outputs": [],
      "source": [
        "image_rec, costs, metrics = reconstructor.reconstruct(\n    kspace_data=kspace_data,\n    optimization_alg='fista',\n    num_iterations=200,\n)\nrecon_ssim = ssim(image_rec, image)\nplt.imshow(np.abs(image_rec[..., 80]), cmap='gray')\nplt.title('Iterative Reconstruction : SSIM = ' + str(np.around(recon_ssim, 2)))\nplt.show()"
      ]
    }
  ],
  "metadata": {
    "kernelspec": {
      "display_name": "Python 3",
      "language": "python",
      "name": "python3"
    },
    "language_info": {
      "codemirror_mode": {
        "name": "ipython",
        "version": 3
      },
      "file_extension": ".py",
      "mimetype": "text/x-python",
      "name": "python",
      "nbconvert_exporter": "python",
      "pygments_lexer": "ipython3",
      "version": "3.10.12"
    }
  },
  "nbformat": 4,
  "nbformat_minor": 0
}