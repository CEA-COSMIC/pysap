{
  "cells": [
    {
      "cell_type": "code",
      "execution_count": null,
      "metadata": {
        "collapsed": false
      },
      "outputs": [],
      "source": [
        "%matplotlib inline"
      ]
    },
    {
      "cell_type": "markdown",
      "metadata": {},
      "source": [
        "\n# PySAP Basics\n\n.. codeauthor:: Antoine Grigis <antoine.grigis@cea.fr>\n\nThis example introduces some of the basic features of the core PySAP package\nas well as some tests to ensure that everything has been installed correctly.\n\n## First checks\n\nIn order to test if the ``pysap`` package is properly installed on your\nmachine, you can check the package version.\n"
      ]
    },
    {
      "cell_type": "code",
      "execution_count": null,
      "metadata": {
        "collapsed": false
      },
      "outputs": [],
      "source": [
        "import matplotlib.pyplot as plt\nimport pysap\n\nprint(pysap.__version__)"
      ]
    },
    {
      "cell_type": "markdown",
      "metadata": {},
      "source": [
        "Now you can run the the configuration info function to see if all the\ndependencies are installed properly:\n\n"
      ]
    },
    {
      "cell_type": "code",
      "execution_count": null,
      "metadata": {
        "collapsed": false
      },
      "outputs": [],
      "source": [
        "import pysap.configure\n\nprint(pysap.configure.info())"
      ]
    },
    {
      "cell_type": "markdown",
      "metadata": {},
      "source": [
        "## Import astronomical data\n\nPySAP provides a common interface for importing and visualising\nastronomical FITS datasets. A sample of toy datasets is provided that will be\nused in this tutorial.\n\n"
      ]
    },
    {
      "cell_type": "code",
      "execution_count": null,
      "metadata": {
        "collapsed": false
      },
      "outputs": [],
      "source": [
        "import pysap\nfrom pprint import pprint\nfrom pysap.data import get_sample_data\n\nimage = get_sample_data('astro-fits')\nprint(image.shape, image.spacing, image.data_type)\npprint(image.metadata)\nprint(image.data.dtype)\nplt.imshow(image)\nplt.show()"
      ]
    },
    {
      "cell_type": "markdown",
      "metadata": {},
      "source": [
        "## Import neuroimaging data\n\nPySAP also provides a common interface for importing and visualising\nneuroimaging NIFTI datasets. A sample of toy datasets is provided that will\nbe used in this tutorial.\n\n"
      ]
    },
    {
      "cell_type": "code",
      "execution_count": null,
      "metadata": {
        "collapsed": false
      },
      "outputs": [],
      "source": [
        "import pysap\nfrom pprint import pprint\nfrom pysap.data import get_sample_data\n\nimage = get_sample_data('mri-nifti')\nimage.scroll_axis = 2\nprint(image.shape, image.spacing, image.data_type)\npprint(image.metadata)\nprint(image.data.dtype)\n# image.show()  ## uncomment to visualise this object"
      ]
    },
    {
      "cell_type": "markdown",
      "metadata": {},
      "source": [
        "## Decompose/recompose an image using a fast Sparse2D based transform\n\nPySAP includes Python bindings for the Sparse2D C++ library of wavelet\ntransforms developped at the CosmoStat lab. PySAP also uses the\nPyWavelet package. The code is optimsed and provides access to many\nimage decompsition strategies.\n\nAll the transforms available can be listed as follows.\n\n"
      ]
    },
    {
      "cell_type": "code",
      "execution_count": null,
      "metadata": {
        "collapsed": false
      },
      "outputs": [],
      "source": [
        "from pprint import pprint\nimport pysap\n\npprint(pysap.wavelist())\npprint(pysap.wavelist(family='isap-3d'))"
      ]
    },
    {
      "cell_type": "markdown",
      "metadata": {},
      "source": [
        "Here we illustrate the the decomposition/recomposition process using a\nDaubechies (``'db3'``) wavelet from pywt with 4 scales:\n\n"
      ]
    },
    {
      "cell_type": "code",
      "execution_count": null,
      "metadata": {
        "collapsed": false
      },
      "outputs": [],
      "source": [
        "import pysap\nfrom pysap.data import get_sample_data\n\nimage = get_sample_data('mri-slice-nifti')\ntransform_klass = pysap.load_transform('db3')\ntransform = transform_klass(nb_scale=4, verbose=1, padding_mode='symmetric')\ntransform.data = image\ntransform.analysis()\n# transform.show()  ## uncomment to visualise this object\nrec_image = transform.synthesis()\n# rec_image.show()  ## uncomment to visualise this object"
      ]
    },
    {
      "cell_type": "markdown",
      "metadata": {},
      "source": [
        "Here we illustrate the the decomposition/recomposition process using a\nfast curvelet transform (``'FastCurveletTransform'``) from Sparse2D with 4\nscales:\n\n"
      ]
    },
    {
      "cell_type": "code",
      "execution_count": null,
      "metadata": {
        "collapsed": false
      },
      "outputs": [],
      "source": [
        "image = get_sample_data('mri-slice-nifti')\ntransform_klass = pysap.load_transform('FastCurveletTransform')\ntransform = transform_klass(nb_scale=4, verbose=1, padding_mode='zero')\ntransform.data = image\ntransform.analysis()\n# transform.show()  ## uncomment to visualise this object\nrec_image = transform.synthesis()\n# rec_image.show()  ## uncomment to visualise this object"
      ]
    }
  ],
  "metadata": {
    "kernelspec": {
      "display_name": "Python 3",
      "language": "python",
      "name": "python3"
    },
    "language_info": {
      "codemirror_mode": {
        "name": "ipython",
        "version": 3
      },
      "file_extension": ".py",
      "mimetype": "text/x-python",
      "name": "python",
      "nbconvert_exporter": "python",
      "pygments_lexer": "ipython3",
      "version": "3.10.12"
    }
  },
  "nbformat": 4,
  "nbformat_minor": 0
}