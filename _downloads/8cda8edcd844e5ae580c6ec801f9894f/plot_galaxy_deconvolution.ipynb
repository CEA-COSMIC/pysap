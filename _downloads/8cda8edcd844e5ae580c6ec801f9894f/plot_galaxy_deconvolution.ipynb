{
  "cells": [
    {
      "cell_type": "code",
      "execution_count": null,
      "metadata": {
        "collapsed": false
      },
      "outputs": [],
      "source": [
        "%matplotlib inline"
      ]
    },
    {
      "cell_type": "markdown",
      "metadata": {},
      "source": [
        "\n# Galaxy Image Deconvolution\n\n.. codeauthor:: Samuel Farrens <samuel.farrens@cea.fr>\n\nIn this tutorial we will deconvolve the PSF effects from an example galaxy\nimage using the PySAP-Astro plug-in.\n\n## Import dependencies\n\nImport functions from PySAP and\n`ModOpt <https://cea-cosmic.github.io/ModOpt/>`_.\n"
      ]
    },
    {
      "cell_type": "code",
      "execution_count": null,
      "metadata": {
        "collapsed": false
      },
      "outputs": [],
      "source": [
        "import numpy as np\nimport matplotlib.pyplot as plt\nfrom pysap.data import get_sample_data\nfrom astro.deconvolution.deconvolve import sparse_deconv_condatvu\nfrom modopt.signal.noise import add_noise\nfrom modopt.math.convolve import convolve"
      ]
    },
    {
      "cell_type": "markdown",
      "metadata": {},
      "source": [
        "## Load astro data\n\nFirst, we load some example images from the PySAP sample data sets.\n\n"
      ]
    },
    {
      "cell_type": "code",
      "execution_count": null,
      "metadata": {
        "collapsed": false
      },
      "outputs": [],
      "source": [
        "galaxy = get_sample_data('astro-galaxy')\npsf = get_sample_data('astro-psf')"
      ]
    },
    {
      "cell_type": "markdown",
      "metadata": {},
      "source": [
        "Then we can show the clean galaxy image that we will attempt to recover.\n\n"
      ]
    },
    {
      "cell_type": "code",
      "execution_count": null,
      "metadata": {
        "collapsed": false
      },
      "outputs": [],
      "source": [
        "plt.imshow(galaxy)\nplt.show()"
      ]
    },
    {
      "cell_type": "markdown",
      "metadata": {},
      "source": [
        "## Generate a noisy observation\n\nTo simulate an observation we convolve the image with a point spread function\n(PSF) using the ModOpt :py:func:`convolve <modopt.math.convolve.convolve>`\nfunction. Then we add random Gaussian noise with standard deviation\n``0.0005`` using the ModOpt\n:py:func:`add_noise <modopt.signal.noise.add_noise>` function.\n\n"
      ]
    },
    {
      "cell_type": "code",
      "execution_count": null,
      "metadata": {
        "collapsed": false
      },
      "outputs": [],
      "source": [
        "obs_data = add_noise(convolve(galaxy.data, psf.data), sigma=0.0005)"
      ]
    },
    {
      "cell_type": "markdown",
      "metadata": {},
      "source": [
        "Now we can show the noisy and blurred galaxy image.\n\n"
      ]
    },
    {
      "cell_type": "code",
      "execution_count": null,
      "metadata": {
        "collapsed": false
      },
      "outputs": [],
      "source": [
        "plt.imshow(obs_data)\nplt.show()"
      ]
    },
    {
      "cell_type": "markdown",
      "metadata": {},
      "source": [
        "## Deconvolve\n\nWe will use the :py:func:`sparse_deconv_condatvu\n<astro.deconvolution.deconvolve.sparse_deconv_condatvu>` function from\nPySAP-Astro to deconvolve the noisy image. We set the maximum number of\niterations for this function to ``3000``.\n\n"
      ]
    },
    {
      "cell_type": "code",
      "execution_count": null,
      "metadata": {
        "collapsed": false
      },
      "outputs": [],
      "source": [
        "deconv_data = sparse_deconv_condatvu(obs_data, psf.data, n_iter=3000)"
      ]
    },
    {
      "cell_type": "markdown",
      "metadata": {},
      "source": [
        "We can show the deconvolved galaxy image.\n\n"
      ]
    },
    {
      "cell_type": "code",
      "execution_count": null,
      "metadata": {
        "collapsed": false
      },
      "outputs": [],
      "source": [
        "plt.imshow(deconv_data)\nplt.show()"
      ]
    },
    {
      "cell_type": "markdown",
      "metadata": {},
      "source": [
        "## Residual\n\nNext, we calculate the residual of our deconvolved image to get a measure of\nhow well the deconvolution process performed.\n\n"
      ]
    },
    {
      "cell_type": "code",
      "execution_count": null,
      "metadata": {
        "collapsed": false
      },
      "outputs": [],
      "source": [
        "residual = np.abs(galaxy.data - deconv_data)"
      ]
    },
    {
      "cell_type": "markdown",
      "metadata": {},
      "source": [
        "Finally, we can show the residual.\n\n"
      ]
    },
    {
      "cell_type": "code",
      "execution_count": null,
      "metadata": {
        "collapsed": false
      },
      "outputs": [],
      "source": [
        "plt.imshow(residual)\nplt.show()"
      ]
    },
    {
      "cell_type": "markdown",
      "metadata": {},
      "source": [
        ".. tip::\n\n Typically for a denoising problem we are aiming for a residual without any\n structure, i.e. just noise.\n\n"
      ]
    }
  ],
  "metadata": {
    "kernelspec": {
      "display_name": "Python 3",
      "language": "python",
      "name": "python3"
    },
    "language_info": {
      "codemirror_mode": {
        "name": "ipython",
        "version": 3
      },
      "file_extension": ".py",
      "mimetype": "text/x-python",
      "name": "python",
      "nbconvert_exporter": "python",
      "pygments_lexer": "ipython3",
      "version": "3.10.12"
    }
  },
  "nbformat": 4,
  "nbformat_minor": 0
}