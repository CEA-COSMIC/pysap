{
  "cells": [
    {
      "cell_type": "code",
      "execution_count": null,
      "metadata": {
        "collapsed": false
      },
      "outputs": [],
      "source": [
        "%matplotlib inline"
      ]
    },
    {
      "cell_type": "markdown",
      "metadata": {},
      "source": [
        "\n# GPU Density Compensation Reconstruction Comparison\n\nAuthor: Chaithya G R\n\nIn this tutorial we will reconstruct an MR Image directly with density\ncompensation\n\n## Import neuroimaging data\n\nWe use the toy datasets available in pysap, more specifically a 2D brain slice\nand the radial acquisition scheme (non-cartesian).\n"
      ]
    },
    {
      "cell_type": "markdown",
      "metadata": {},
      "source": [
        "Package import\n\n"
      ]
    },
    {
      "cell_type": "code",
      "execution_count": null,
      "metadata": {
        "collapsed": false
      },
      "outputs": [],
      "source": [
        "from mri.operators import NonCartesianFFT\nfrom mri.operators.fourier.utils import estimate_density_compensation, \\\n    convert_locations_to_mask, gridded_inverse_fourier_transform_nd\nfrom pysap.data import get_sample_data\n\n# Third party import\nfrom modopt.math.metrics import ssim\nimport numpy as np\nimport matplotlib.pyplot as plt"
      ]
    },
    {
      "cell_type": "markdown",
      "metadata": {},
      "source": [
        "Loading input data\n\n"
      ]
    },
    {
      "cell_type": "code",
      "execution_count": null,
      "metadata": {
        "collapsed": false
      },
      "outputs": [],
      "source": [
        "image = get_sample_data('2d-mri').data.astype(np.complex64)\n\n# Obtain MRI non-cartesian mask and estimate the density compensation\nkspace_loc = get_sample_data(\"mri-radial-samples\").data\ndensity_comp = estimate_density_compensation(kspace_loc, image.shape, 'pipe', backend='gpunufft')\ndensity_comp2 = estimate_density_compensation(kspace_loc, image.shape, 'cell_count')"
      ]
    },
    {
      "cell_type": "markdown",
      "metadata": {},
      "source": [
        "View Input\n\n"
      ]
    },
    {
      "cell_type": "code",
      "execution_count": null,
      "metadata": {
        "collapsed": false
      },
      "outputs": [],
      "source": [
        "plt.subplot(1, 2, 1)\nplt.imshow(np.abs(image), cmap='gray')\nplt.title(\"MRI Data\")\nplt.subplot(1, 2, 2)\nplt.imshow(convert_locations_to_mask(kspace_loc, image.shape), cmap='gray')\nplt.title(\"K-space Sampling Mask\")\nplt.show()"
      ]
    },
    {
      "cell_type": "markdown",
      "metadata": {},
      "source": [
        "## Generate the kspace\n\nFrom the 2D brain slice and the acquisition mask, we retrospectively\nundersample the k-space using a radial acquisition mask\nWe then reconstruct using adjoint with and without density compensation\n\n"
      ]
    },
    {
      "cell_type": "code",
      "execution_count": null,
      "metadata": {
        "collapsed": false
      },
      "outputs": [],
      "source": [
        "# Get the locations of the kspace samples and the associated observations\nfourier_op = NonCartesianFFT(\n    samples=kspace_loc,\n    shape=image.shape,\n)\nfourier_op_density_comp = NonCartesianFFT(\n    samples=kspace_loc,\n    shape=image.shape,\n    density_comp=density_comp\n)\nfourier_op_density_comp2 = NonCartesianFFT(\n    samples=kspace_loc,\n    shape=image.shape,\n    density_comp=density_comp2\n)\n# Get the kspace data retrospectively. Note that this can be done with\n# `fourier_op_density_comp` as the forward operator is the same\nkspace_obs = fourier_op.op(image)"
      ]
    },
    {
      "cell_type": "markdown",
      "metadata": {},
      "source": [
        "Gridded solution\n\n"
      ]
    },
    {
      "cell_type": "code",
      "execution_count": null,
      "metadata": {
        "collapsed": false
      },
      "outputs": [],
      "source": [
        "grid_space = np.linspace(-0.5, 0.5, num=image.shape[0])\ngrid2D = np.meshgrid(grid_space, grid_space)\ngrid_soln = gridded_inverse_fourier_transform_nd(kspace_loc, kspace_obs,\n                                                 tuple(grid2D), 'linear')\nbase_ssim = ssim(grid_soln, image, mask=np.abs(image)>np.mean(np.abs(image)))\nplt.imshow(np.abs(grid_soln), cmap='gray')\nplt.title('Gridded solution : SSIM = ' + str(np.around(base_ssim, 2)))\nplt.show()"
      ]
    },
    {
      "cell_type": "markdown",
      "metadata": {},
      "source": [
        "Simple adjoint\nThis preconditions k-space giving a result closer to inverse\n\n"
      ]
    },
    {
      "cell_type": "code",
      "execution_count": null,
      "metadata": {
        "collapsed": false
      },
      "outputs": [],
      "source": [
        "image_rec = fourier_op.adj_op(kspace_obs)\nrecon_ssim = ssim(image_rec, image, mask=np.abs(image)>np.mean(np.abs(image)))\nplt.imshow(np.abs(image_rec), cmap='gray')\nplt.title('Simple NUFFT Adjoint : SSIM = ' + str(np.around(recon_ssim, 2)))\nplt.show()"
      ]
    },
    {
      "cell_type": "markdown",
      "metadata": {},
      "source": [
        "Density Compensation adjoint (from Pipe):\nThis preconditions k-space giving a result closer to inverse\n\n"
      ]
    },
    {
      "cell_type": "code",
      "execution_count": null,
      "metadata": {
        "collapsed": false
      },
      "outputs": [],
      "source": [
        "image_rec = fourier_op_density_comp.adj_op(kspace_obs)\nrecon_ssim = ssim(image_rec, image, mask=np.abs(image)>np.mean(np.abs(image)))\nplt.imshow(np.abs(image_rec), cmap='gray')\nplt.title('Density Compensated Adjoint (Pipe): SSIM = ' + str(np.around(recon_ssim, 2)))\nplt.show()"
      ]
    },
    {
      "cell_type": "markdown",
      "metadata": {},
      "source": [
        "Density Compensation adjoint (from cell_count):\nThis preconditions k-space giving a result closer to inverse\n\n"
      ]
    },
    {
      "cell_type": "code",
      "execution_count": null,
      "metadata": {
        "collapsed": false
      },
      "outputs": [],
      "source": [
        "image_rec = fourier_op_density_comp.adj_op(kspace_obs)\nrecon_ssim = ssim(image_rec, image, mask=np.abs(image)>np.mean(np.abs(image)))\nplt.imshow(np.abs(image_rec), cmap='gray')\nplt.title('Density Compensated Adjoint (cell_count): SSIM = ' + str(np.around(recon_ssim, 2)))\nplt.show()"
      ]
    }
  ],
  "metadata": {
    "kernelspec": {
      "display_name": "Python 3",
      "language": "python",
      "name": "python3"
    },
    "language_info": {
      "codemirror_mode": {
        "name": "ipython",
        "version": 3
      },
      "file_extension": ".py",
      "mimetype": "text/x-python",
      "name": "python",
      "nbconvert_exporter": "python",
      "pygments_lexer": "ipython3",
      "version": "3.10.12"
    }
  },
  "nbformat": 4,
  "nbformat_minor": 0
}