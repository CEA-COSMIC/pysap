{
  "cells": [
    {
      "cell_type": "code",
      "execution_count": null,
      "metadata": {
        "collapsed": false
      },
      "outputs": [],
      "source": [
        "%matplotlib inline"
      ]
    },
    {
      "cell_type": "markdown",
      "metadata": {},
      "source": [
        "\n# GPU non-cartesian reconstruction with SENSE\n\nAuthor: Chaithya G R\n\nIn this tutorial we will reconstruct an MR Image directly with density\ncompensation and SENSE from gpuNUFFT\n\n## Import neuroimaging data\n\nWe use the toy datasets available in pysap, more specifically a 3D orange data\nand the radial acquisition scheme (non-cartesian).\n"
      ]
    },
    {
      "cell_type": "markdown",
      "metadata": {},
      "source": [
        "Package import\n\n"
      ]
    },
    {
      "cell_type": "code",
      "execution_count": null,
      "metadata": {
        "collapsed": false
      },
      "outputs": [],
      "source": [
        "from mri.operators import NonCartesianFFT, WaveletN\nfrom mri.operators.utils import normalize_frequency_locations\nfrom mri.operators.fourier.utils import estimate_density_compensation\nfrom mri.reconstructors import SelfCalibrationReconstructor\nfrom mri.reconstructors.utils.extract_sensitivity_maps import get_Smaps\nfrom pysap.data import get_sample_data\n\n# Third party import\nfrom modopt.math.metrics import ssim\nfrom modopt.opt.linear import Identity\nfrom modopt.opt.proximity import SparseThreshold\nimport numpy as np\nimport matplotlib.pyplot as plt"
      ]
    },
    {
      "cell_type": "markdown",
      "metadata": {},
      "source": [
        "Loading input data\n\n"
      ]
    },
    {
      "cell_type": "code",
      "execution_count": null,
      "metadata": {
        "collapsed": false
      },
      "outputs": [],
      "source": [
        "image = get_sample_data('3d-pmri').data.astype(np.complex64)\ncartesian = np.linalg.norm(image, axis=0)\n\n# Obtain MRI non-cartesian mask and estimate the density compensation\nradial_mask = get_sample_data(\"mri-radial-3d-samples\")\nkspace_loc = normalize_frequency_locations(radial_mask.data)\ndensity_comp = estimate_density_compensation(kspace_loc, cartesian.shape, 'pipe', backend='gpunufft')"
      ]
    },
    {
      "cell_type": "markdown",
      "metadata": {},
      "source": [
        "View Input\n\n"
      ]
    },
    {
      "cell_type": "code",
      "execution_count": null,
      "metadata": {
        "collapsed": false
      },
      "outputs": [],
      "source": [
        "plt.subplot(1, 2, 1)\nplt.imshow(cartesian[..., 80], cmap='gray')\nplt.title(\"MRI Data\")\nax = plt.subplot(1, 2, 2, projection='3d')\nax.scatter(*kspace_loc[::500].T, s=0.1, alpha=0.5)\nplt.title(\"K-space Sampling Mask\")\nplt.show()"
      ]
    },
    {
      "cell_type": "markdown",
      "metadata": {},
      "source": [
        "## Generate the kspace\n\nFrom the 3D orange slice and 3D radial acquisition mask, we retrospectively\nundersample the k-space\nWe then reconstruct using adjoint with and without density compensation\n\n"
      ]
    },
    {
      "cell_type": "code",
      "execution_count": null,
      "metadata": {
        "collapsed": false
      },
      "outputs": [],
      "source": [
        "# Get the locations of the kspace samples and the associated observations\nfourier_op = NonCartesianFFT(\n    samples=kspace_loc,\n    shape=cartesian.shape,\n    n_coils=image.shape[0],\n    implementation='gpuNUFFT',\n)\nkspace_obs = fourier_op.op(image)"
      ]
    },
    {
      "cell_type": "markdown",
      "metadata": {},
      "source": [
        "Obtrain the Sensitivity Maps\n\n"
      ]
    },
    {
      "cell_type": "code",
      "execution_count": null,
      "metadata": {
        "collapsed": false
      },
      "outputs": [],
      "source": [
        "Smaps, SOS = get_Smaps(\n    k_space=kspace_obs,\n    img_shape=fourier_op.shape,\n    samples=kspace_loc,\n    thresh=(0.05, 0.05, 0.05),  # The cutoff threshold in each kspace\n                                # direction between 0 and kspace_max (0.5)\n    min_samples=kspace_loc.min(axis=0),\n    max_samples=kspace_loc.max(axis=0),\n    density_comp=density_comp,\n    mode='NFFT',\n)"
      ]
    },
    {
      "cell_type": "markdown",
      "metadata": {},
      "source": [
        "View Input\n\n"
      ]
    },
    {
      "cell_type": "code",
      "execution_count": null,
      "metadata": {
        "collapsed": false
      },
      "outputs": [],
      "source": [
        "for i in range(9):\n    plt.subplot(3, 3, i+1)\n    plt.imshow(np.abs(Smaps[i][..., 80]), cmap='gray')\nplt.suptitle(\"Sensitivty Maps\")\nplt.show()"
      ]
    },
    {
      "cell_type": "markdown",
      "metadata": {},
      "source": [
        "Density Compensation adjoint:\n\n"
      ]
    },
    {
      "cell_type": "code",
      "execution_count": null,
      "metadata": {
        "collapsed": false
      },
      "outputs": [],
      "source": [
        "fourier_op_sense_dc = NonCartesianFFT(\n    samples=kspace_loc,\n    shape=cartesian.shape,\n    implementation='gpuNUFFT',\n    n_coils=image.shape[0],\n    density_comp=density_comp,\n    smaps=Smaps,\n)\n# This preconditions k-space giving a result closer to inverse\nimage_rec = fourier_op_sense_dc.adj_op(kspace_obs)\nrecon_ssim = ssim(image_rec, cartesian, mask=np.abs(image)>np.mean(np.abs(image)))\nplt.imshow(np.abs(image_rec)[..., 80], cmap='gray')\nplt.title('Density Compensated Adjoint : SSIM = ' + str(np.around(recon_ssim, 2)))\nplt.show()"
      ]
    },
    {
      "cell_type": "markdown",
      "metadata": {},
      "source": [
        "## FISTA optimization\n\nWe now want to refine the zero order solution using a FISTA optimization.\nThe cost function is set to Proximity Cost + Gradient Cost\n\n"
      ]
    },
    {
      "cell_type": "code",
      "execution_count": null,
      "metadata": {
        "collapsed": false
      },
      "outputs": [],
      "source": [
        "# Setup the operators\nlinear_op = WaveletN(\n    wavelet_name='sym8',\n    nb_scale=4,\n    dim=3,\n)\nregularizer_op = SparseThreshold(Identity(), 1e-11, thresh_type=\"soft\")\n# Setup Reconstructor\nreconstructor = SelfCalibrationReconstructor(\n    fourier_op=fourier_op_sense_dc,\n    linear_op=linear_op,\n    regularizer_op=regularizer_op,\n    gradient_formulation='synthesis',\n    verbose=1,\n)"
      ]
    },
    {
      "cell_type": "markdown",
      "metadata": {},
      "source": [
        "Run the FISTA reconstruction and view results\n\n"
      ]
    },
    {
      "cell_type": "code",
      "execution_count": null,
      "metadata": {
        "collapsed": false
      },
      "outputs": [],
      "source": [
        "image_rec, costs, metrics = reconstructor.reconstruct(\n    kspace_data=kspace_obs,\n    optimization_alg='fista',\n    num_iterations=30,\n)\nrecon_ssim = ssim(image_rec, cartesian)\nplt.imshow(np.abs(image_rec)[..., 80], cmap='gray')\nplt.title('Iterative Reconstruction : SSIM = ' + str(np.around(recon_ssim, 2)))\nplt.show()"
      ]
    }
  ],
  "metadata": {
    "kernelspec": {
      "display_name": "Python 3",
      "language": "python",
      "name": "python3"
    },
    "language_info": {
      "codemirror_mode": {
        "name": "ipython",
        "version": 3
      },
      "file_extension": ".py",
      "mimetype": "text/x-python",
      "name": "python",
      "nbconvert_exporter": "python",
      "pygments_lexer": "ipython3",
      "version": "3.10.12"
    }
  },
  "nbformat": 4,
  "nbformat_minor": 0
}