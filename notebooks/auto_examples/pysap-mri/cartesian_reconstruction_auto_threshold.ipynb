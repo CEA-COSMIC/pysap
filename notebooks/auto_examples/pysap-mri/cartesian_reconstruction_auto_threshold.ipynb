{
  "cells": [
    {
      "cell_type": "code",
      "execution_count": null,
      "metadata": {
        "collapsed": false
      },
      "outputs": [],
      "source": [
        "%matplotlib inline"
      ]
    },
    {
      "cell_type": "markdown",
      "metadata": {},
      "source": [
        "\n# Auto Thresholded cartesian reconstruction\n\nAuthor: Chaithya G R / Pierre-Antoine Comby\n\nIn this tutorial we will reconstruct an MRI image from the sparse kspace\nmeasurements.\n\n## Import neuroimaging data\n\nWe use the toy datasets available in pysap, more specifically a 2D brain slice\nand the cartesian acquisition scheme.\n"
      ]
    },
    {
      "cell_type": "markdown",
      "metadata": {},
      "source": [
        "Package import\n\n"
      ]
    },
    {
      "cell_type": "code",
      "execution_count": null,
      "metadata": {
        "collapsed": false
      },
      "outputs": [],
      "source": [
        "import matplotlib.pyplot as plt\nimport numpy as np\nfrom modopt.math.metrics import snr, ssim\nfrom modopt.opt.linear import Identity\n# Third party import\nfrom modopt.opt.proximity import SparseThreshold\nfrom mri.operators import FFT, WaveletN\nfrom mri.operators.proximity.weighted import AutoWeightedSparseThreshold\nfrom mri.operators.utils import convert_mask_to_locations\nfrom mri.reconstructors import SingleChannelReconstructor\nfrom pysap.data import get_sample_data\n\nimage = get_sample_data('2d-mri')\nprint(image.data.min(), image.data.max())\nimage = image.data\nimage /= np.max(image)\nmask = get_sample_data(\"cartesian-mri-mask\")\n\n\n# Get the locations of the kspace samples\nkspace_loc = convert_mask_to_locations(mask.data)\n# Generate the subsampled kspace\nfourier_op = FFT(mask=mask, shape=image.shape)\nkspace_data = fourier_op.op(image)\n\n# Zero order solution\nimage_rec0 = np.abs(fourier_op.adj_op(kspace_data))\n\n# Calculate SSIM\nbase_ssim = ssim(image_rec0, image)\nprint(base_ssim)"
      ]
    },
    {
      "cell_type": "markdown",
      "metadata": {},
      "source": [
        "## POGM optimization\nWe now want to refine the zero order solution using an accelerated Proximal Gradient\nDescent algorithm (FISTA or POGM).\nThe cost function is set to Proximity Cost + Gradient Cost\n\n"
      ]
    },
    {
      "cell_type": "code",
      "execution_count": null,
      "metadata": {
        "collapsed": false
      },
      "outputs": [],
      "source": [
        "# Setup the operators\nlinear_op = WaveletN(wavelet_name=\"sym8\", nb_scales=3)\n\n# Manual tweak of the regularisation parameter\nregularizer_op = SparseThreshold(Identity(), 2e-3, thresh_type=\"soft\")\n# Setup Reconstructor\nreconstructor = SingleChannelReconstructor(\n    fourier_op=fourier_op,\n    linear_op=linear_op,\n    regularizer_op=regularizer_op,\n    gradient_formulation='synthesis',\n    verbose=1,\n)\n# Start Reconstruction\nx_final, costs, metrics = reconstructor.reconstruct(\n    kspace_data=kspace_data,\n    optimization_alg='pogm',\n    num_iterations=100,\n    cost_op_kwargs={\"cost_interval\":None},\n    metric_call_period=1,\n    metrics = {\n        \"snr\":{\n            \"metric\": snr,\n            \"mapping\": {\"x_new\":\"test\"},\n            \"cst_kwargs\": {\"ref\": image},\n            \"early_stopping\":False,\n        },\n        \"ssim\":{\n            \"metric\": ssim,\n            \"mapping\": {\"x_new\":\"test\"},\n            \"cst_kwargs\": {\"ref\": image},\n            \"early_stopping\": False,\n        }\n    }\n)\n\nimage_rec = np.abs(x_final)\n# image_rec.show()\n# Calculate SSIM\nrecon_ssim = ssim(image_rec, image)\nrecon_snr= snr(image_rec, image)\n\nprint('The Reconstruction SSIM is : ' + str(recon_ssim))\nprint('The Reconstruction SNR is : ' + str(recon_snr))"
      ]
    },
    {
      "cell_type": "markdown",
      "metadata": {},
      "source": [
        "## Threshold estimation using SURE \n\n"
      ]
    },
    {
      "cell_type": "code",
      "execution_count": null,
      "metadata": {
        "collapsed": false
      },
      "outputs": [],
      "source": [
        "_w = None\n\ndef static_weight(w, idx):\n    print(np.unique(w))\n    return w\n\n# Setup the operators\nlinear_op = WaveletN(wavelet_name=\"sym8\", nb_scale=3,padding_mode=\"periodization\")\ncoeffs = linear_op.op(image_rec0)\nprint(linear_op.coeffs_shape)\n\n# Here we don't manually setup the regularisation weights, but use statistics on the wavelet details coefficients\n\nregularizer_op = AutoWeightedSparseThreshold(\n    linear_op.coeffs_shape, linear=Identity(),\n    update_period=0, # the weight is updated only once.\n    sigma_range=\"global\",\n    thresh_range=\"global\",\n    threshold_estimation=\"sure\",\n    thresh_type=\"soft\",\n)\n# Setup Reconstructor\nreconstructor = SingleChannelReconstructor(\n    fourier_op=fourier_op,\n    linear_op=linear_op,\n    regularizer_op=regularizer_op,\n    gradient_formulation='synthesis',\n    verbose=1,\n)\n# Start Reconstruction\nx_final, costs, metrics2 = reconstructor.reconstruct(\n    kspace_data=kspace_data,\n    optimization_alg='pogm',\n    num_iterations=100,\n    metric_call_period=1,\n    cost_op_kwargs={\"cost_interval\":None},\n    metrics = {\n         \"snr\":{\n            \"metric\": snr,\n            \"mapping\": {\"x_new\":\"test\"},\n            \"cst_kwargs\": {\"ref\": image},\n            \"early_stopping\":False,\n        },\n        \"ssim\":{\n            \"metric\": ssim,\n            \"mapping\": {\"x_new\":\"test\"},\n            \"cst_kwargs\": {\"ref\": image},\n            \"early_stopping\": False,\n        },\n        \"cost_grad\":{\n            \"metric\": lambda x: reconstructor.gradient_op.cost(linear_op.op(x)),\n            \"mapping\": {\"x_new\":\"x\"},\n            \"cst_kwargs\": {},\n            \"early_stopping\": False,\n        },\n        \"cost_prox\":{\n            \"metric\": lambda x: reconstructor.prox_op.cost(linear_op.op(x)),\n            \"mapping\": {\"x_new\":\"x\"},\n            \"cst_kwargs\": {},\n            \"early_stopping\": False,\n        }\n    }\n)\nimage_rec2 = np.abs(x_final)\n# image_rec.show()\n# Calculate SSIM\nrecon_ssim2 = ssim(image_rec2, image)\nrecon_snr2 = snr(image_rec2, image)\n\nprint('The Reconstruction SSIM is : ' + str(recon_ssim2))\nprint('The Reconstruction SNR is : ' + str(recon_snr2))\n\nplt.subplot(121)\nplt.plot(metrics[\"snr\"][\"time\"], metrics[\"snr\"][\"values\"], label=\"pogm classic\")\nplt.plot(metrics2[\"snr\"][\"time\"], metrics2[\"snr\"][\"values\"], label=\"pogm sure global\")\nplt.ylabel(\"snr\")\nplt.xlabel(\"time\")\nplt.legend()\nplt.subplot(122)\nplt.plot(metrics[\"ssim\"][\"time\"], metrics[\"ssim\"][\"values\"])\nplt.plot(metrics2[\"ssim\"][\"time\"], metrics2[\"ssim\"][\"values\"])\nplt.ylabel(\"ssim\")\nplt.xlabel(\"time\")\nplt.figure()\nplt.subplot(121)\nplt.plot(metrics[\"snr\"][\"index\"], metrics[\"snr\"][\"values\"])\nplt.plot(metrics2[\"snr\"][\"index\"], metrics2[\"snr\"][\"values\"])\nplt.ylabel(\"snr\")\nplt.subplot(122)\nplt.plot(metrics[\"ssim\"][\"index\"], metrics[\"ssim\"][\"values\"])\nplt.plot(metrics2[\"ssim\"][\"index\"], metrics2[\"ssim\"][\"values\"])\nplt.show()"
      ]
    },
    {
      "cell_type": "markdown",
      "metadata": {},
      "source": [
        "## Qualitative results\n\n\n"
      ]
    },
    {
      "cell_type": "code",
      "execution_count": null,
      "metadata": {
        "collapsed": false
      },
      "outputs": [],
      "source": [
        "def my_imshow(ax, img, title):\n    ax.imshow(img, cmap=\"gray\")\n    ax.set_title(title)\n    ax.axis(\"off\")\n            \n\n\nfig, axs = plt.subplots(2,2)\n\nmy_imshow(axs[0,0], image, \"Ground Truth\")\nmy_imshow(axs[0,1], abs(image_rec0), f\"Zero Order \\n SSIM={base_ssim:.4f}\")\nmy_imshow(axs[1,0], abs(image_rec), f\"Fista Classic \\n SSIM={recon_ssim:.4f}\")\nmy_imshow(axs[1,1], abs(image_rec2), f\"Fista Sure \\n SSIM={recon_ssim2:.4f}\")\n\nfig.tight_layout()\nplt.show()"
      ]
    }
  ],
  "metadata": {
    "kernelspec": {
      "display_name": "Python 3",
      "language": "python",
      "name": "python3"
    },
    "language_info": {
      "codemirror_mode": {
        "name": "ipython",
        "version": 3
      },
      "file_extension": ".py",
      "mimetype": "text/x-python",
      "name": "python",
      "nbconvert_exporter": "python",
      "pygments_lexer": "ipython3",
      "version": "3.10.12"
    }
  },
  "nbformat": 4,
  "nbformat_minor": 0
}