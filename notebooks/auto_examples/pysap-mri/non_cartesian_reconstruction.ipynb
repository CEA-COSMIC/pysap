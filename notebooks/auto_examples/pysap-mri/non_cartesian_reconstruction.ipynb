{
  "cells": [
    {
      "cell_type": "code",
      "execution_count": null,
      "metadata": {
        "collapsed": false
      },
      "outputs": [],
      "source": [
        "%matplotlib inline"
      ]
    },
    {
      "cell_type": "markdown",
      "metadata": {},
      "source": [
        "\n# GPU Non-cartesian 2D reconstruction: Undecimated Wavelet\n\nAuthor: Chaithya G R\n\nIn this tutorial we will reconstruct an MRI image from non-cartesian kspace\nmeasurements.\n\n## Import neuroimaging data\n\nWe use the toy datasets available in pysap, more specifically a 2D brain slice\nand the acquisition cartesian scheme.\n"
      ]
    },
    {
      "cell_type": "markdown",
      "metadata": {},
      "source": [
        "Package import\n\n"
      ]
    },
    {
      "cell_type": "code",
      "execution_count": null,
      "metadata": {
        "collapsed": false
      },
      "outputs": [],
      "source": [
        "from mri.operators import NonCartesianFFT, WaveletUD2\nfrom mri.operators.utils import convert_locations_to_mask, \\\n    gridded_inverse_fourier_transform_nd\nfrom mri.reconstructors import SingleChannelReconstructor\nfrom pysap.data import get_sample_data\n\n# Third party import\nfrom modopt.math.metrics import ssim\nfrom modopt.opt.linear import Identity\nfrom modopt.opt.proximity import SparseThreshold\nimport numpy as np\nimport matplotlib.pyplot as plt"
      ]
    },
    {
      "cell_type": "markdown",
      "metadata": {},
      "source": [
        "Loading input data\n\n"
      ]
    },
    {
      "cell_type": "code",
      "execution_count": null,
      "metadata": {
        "collapsed": false
      },
      "outputs": [],
      "source": [
        "image = get_sample_data('2d-mri').data.astype(np.complex64)\n\n# Obtain MRI non-cartesian mask\nradial_mask = get_sample_data(\"mri-radial-samples\")\nkspace_loc = radial_mask.data"
      ]
    },
    {
      "cell_type": "markdown",
      "metadata": {},
      "source": [
        "View Input\n\n"
      ]
    },
    {
      "cell_type": "code",
      "execution_count": null,
      "metadata": {
        "collapsed": false
      },
      "outputs": [],
      "source": [
        "plt.subplot(1, 2, 1)\nplt.imshow(np.abs(image), cmap='gray')\nplt.title(\"MRI Data\")\nplt.subplot(1, 2, 2)\nplt.imshow(convert_locations_to_mask(kspace_loc, image.shape), cmap='gray')\nplt.title(\"K-space Sampling Mask\")\nplt.show()"
      ]
    },
    {
      "cell_type": "markdown",
      "metadata": {},
      "source": [
        "## Generate the kspace\n\nFrom the 2D brain slice and the acquisition mask, we retrospectively\nundersample the k-space using a radial acquisition mask\nWe then reconstruct the zero order solution as a baseline\n\n"
      ]
    },
    {
      "cell_type": "code",
      "execution_count": null,
      "metadata": {
        "collapsed": false
      },
      "outputs": [],
      "source": [
        "# Get the locations of the kspace samples and the associated observations\nfourier_op = NonCartesianFFT(samples=kspace_loc, shape=image.shape, implementation='gpuNUFFT')\nkspace_obs = fourier_op.op(image)[0]"
      ]
    },
    {
      "cell_type": "markdown",
      "metadata": {},
      "source": [
        "Gridded solution\n\n"
      ]
    },
    {
      "cell_type": "code",
      "execution_count": null,
      "metadata": {
        "collapsed": false
      },
      "outputs": [],
      "source": [
        "grid_space = np.linspace(-0.5, 0.5, num=image.shape[0])\ngrid2D = np.meshgrid(grid_space, grid_space)\ngrid_soln = gridded_inverse_fourier_transform_nd(kspace_loc, kspace_obs,\n                                                 tuple(grid2D), 'linear')\nbase_ssim = ssim(grid_soln, image)\nplt.imshow(np.abs(grid_soln), cmap='gray')\nplt.title('Gridded solution : SSIM = ' + str(np.around(base_ssim, 2)))\nplt.show()"
      ]
    },
    {
      "cell_type": "markdown",
      "metadata": {},
      "source": [
        "## FISTA optimization\n\nWe now want to refine the zero order solution using a FISTA optimization.\nThe cost function is set to Proximity Cost + Gradient Cost\n\n"
      ]
    },
    {
      "cell_type": "code",
      "execution_count": null,
      "metadata": {
        "collapsed": false
      },
      "outputs": [],
      "source": [
        "# Setup the operators\nlinear_op = WaveletUD2(\n    wavelet_id=24,\n    nb_scale=4,\n)\nregularizer_op = SparseThreshold(Identity(), 2e-8, thresh_type=\"soft\")\n# Setup Reconstructor\nreconstructor = SingleChannelReconstructor(\n    fourier_op=fourier_op,\n    linear_op=linear_op,\n    regularizer_op=regularizer_op,\n    gradient_formulation='synthesis',\n    verbose=1,\n)"
      ]
    },
    {
      "cell_type": "markdown",
      "metadata": {},
      "source": [
        "Run the FISTA reconstruction and view results\n\n"
      ]
    },
    {
      "cell_type": "code",
      "execution_count": null,
      "metadata": {
        "collapsed": false
      },
      "outputs": [],
      "source": [
        "image_rec, costs, metrics = reconstructor.reconstruct(\n    kspace_data=kspace_obs,\n    optimization_alg='fista',\n    num_iterations=200,\n)\n\nrecon_ssim = ssim(image_rec, image)\nplt.imshow(np.abs(image_rec), cmap='gray')\nplt.title('Iterative Reconstruction : SSIM = ' + str(np.around(recon_ssim, 2)))\nplt.show()"
      ]
    }
  ],
  "metadata": {
    "kernelspec": {
      "display_name": "Python 3",
      "language": "python",
      "name": "python3"
    },
    "language_info": {
      "codemirror_mode": {
        "name": "ipython",
        "version": 3
      },
      "file_extension": ".py",
      "mimetype": "text/x-python",
      "name": "python",
      "nbconvert_exporter": "python",
      "pygments_lexer": "ipython3",
      "version": "3.10.12"
    }
  },
  "nbformat": 4,
  "nbformat_minor": 0
}